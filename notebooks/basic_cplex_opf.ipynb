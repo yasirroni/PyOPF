{
 "cells": [
  {
   "cell_type": "code",
   "execution_count": 1,
   "metadata": {},
   "outputs": [],
   "source": [
    "%load_ext autoreload\n",
    "%autoreload 2"
   ]
  },
  {
   "cell_type": "code",
   "execution_count": 2,
   "metadata": {},
   "outputs": [],
   "source": [
    "import opf\n",
    "from pypglib import pglib_opf_case5_pjm"
   ]
  },
  {
   "cell_type": "code",
   "execution_count": 5,
   "metadata": {},
   "outputs": [
    {
     "name": "stdout",
     "output_type": "stream",
     "text": [
      "build model... end\n",
      "instantiate model... end\n"
     ]
    },
    {
     "ename": "DegreeError",
     "evalue": "CPLEXDirect does not support expressions of degree None.\nexpr: pf_from[1] - (1/T_m[1]**2*(g[1] + g_from[1])*vm[1]**2 + (- g[1]*T_R[1] + b[1]*T_I[1])/T_m[1]**2*(vm[1]*vm[2])*cos(va[1] - va[2]) + (- b[1]*T_R[1] - g[1]*T_I[1])/T_m[1]**2*(vm[1]*vm[2])*sin(va[1] - va[2]))",
     "output_type": "error",
     "traceback": [
      "\u001b[1;31m---------------------------------------------------------------------------\u001b[0m",
      "\u001b[1;31mDegreeError\u001b[0m                               Traceback (most recent call last)",
      "File \u001b[1;32mc:\\Users\\muham\\AppData\\Local\\Programs\\Python\\Python38\\lib\\site-packages\\pyomo\\solvers\\plugins\\solvers\\cplex_direct.py:326\u001b[0m, in \u001b[0;36mCPLEXDirect._get_expr_from_pyomo_expr\u001b[1;34m(self, expr, max_degree)\u001b[0m\n\u001b[0;32m    325\u001b[0m \u001b[39mtry\u001b[39;00m:\n\u001b[1;32m--> 326\u001b[0m     cplex_expr, referenced_vars \u001b[39m=\u001b[39m \u001b[39mself\u001b[39;49m\u001b[39m.\u001b[39;49m_get_expr_from_pyomo_repn(\n\u001b[0;32m    327\u001b[0m         repn, max_degree\n\u001b[0;32m    328\u001b[0m     )\n\u001b[0;32m    329\u001b[0m \u001b[39mexcept\u001b[39;00m DegreeError \u001b[39mas\u001b[39;00m e:\n",
      "File \u001b[1;32mc:\\Users\\muham\\AppData\\Local\\Programs\\Python\\Python38\\lib\\site-packages\\pyomo\\solvers\\plugins\\solvers\\cplex_direct.py:290\u001b[0m, in \u001b[0;36mCPLEXDirect._get_expr_from_pyomo_repn\u001b[1;34m(self, repn, max_degree)\u001b[0m\n\u001b[0;32m    289\u001b[0m \u001b[39mif\u001b[39;00m degree \u001b[39mis\u001b[39;00m \u001b[39mNone\u001b[39;00m \u001b[39mor\u001b[39;00m degree \u001b[39m>\u001b[39m max_degree:\n\u001b[1;32m--> 290\u001b[0m     \u001b[39mraise\u001b[39;00m DegreeError(\n\u001b[0;32m    291\u001b[0m         \u001b[39m\"\u001b[39m\u001b[39mCPLEXDirect does not support expressions of degree \u001b[39m\u001b[39m{0}\u001b[39;00m\u001b[39m.\u001b[39m\u001b[39m\"\u001b[39m\u001b[39m.\u001b[39mformat(degree)\n\u001b[0;32m    292\u001b[0m     )\n\u001b[0;32m    294\u001b[0m referenced_vars \u001b[39m=\u001b[39m ComponentSet(repn\u001b[39m.\u001b[39mlinear_vars)\n",
      "\u001b[1;31mDegreeError\u001b[0m: CPLEXDirect does not support expressions of degree None.",
      "\nDuring handling of the above exception, another exception occurred:\n",
      "\u001b[1;31mDegreeError\u001b[0m                               Traceback (most recent call last)",
      "Cell \u001b[1;32mIn[5], line 4\u001b[0m\n\u001b[0;32m      2\u001b[0m network \u001b[38;5;241m=\u001b[39m opf\u001b[38;5;241m.\u001b[39mparse_file(pglib_opf_case5_pjm)\n\u001b[0;32m      3\u001b[0m model\u001b[38;5;241m.\u001b[39minstantiate(network)\n\u001b[1;32m----> 4\u001b[0m result \u001b[38;5;241m=\u001b[39m \u001b[43mmodel\u001b[49m\u001b[38;5;241;43m.\u001b[39;49m\u001b[43msolve\u001b[49m\u001b[43m(\u001b[49m\u001b[43msolver\u001b[49m\u001b[38;5;241;43m=\u001b[39;49m\u001b[38;5;124;43m'\u001b[39;49m\u001b[38;5;124;43mcplex_direct\u001b[39;49m\u001b[38;5;124;43m'\u001b[39;49m\u001b[43m,\u001b[49m\n\u001b[0;32m      5\u001b[0m \u001b[43m                     \u001b[49m\u001b[43msolver_option\u001b[49m\u001b[38;5;241;43m=\u001b[39;49m\u001b[43m{\u001b[49m\u001b[38;5;124;43m'\u001b[39;49m\u001b[38;5;124;43mprint_level\u001b[39;49m\u001b[38;5;124;43m'\u001b[39;49m\u001b[43m \u001b[49m\u001b[43m:\u001b[49m\u001b[43m \u001b[49m\u001b[38;5;241;43m5\u001b[39;49m\u001b[43m,\u001b[49m\u001b[43m \u001b[49m\u001b[38;5;124;43m'\u001b[39;49m\u001b[38;5;124;43mlinear_solver\u001b[39;49m\u001b[38;5;124;43m'\u001b[39;49m\u001b[43m:\u001b[49m\u001b[43m \u001b[49m\u001b[38;5;124;43m'\u001b[39;49m\u001b[38;5;124;43mma27\u001b[39;49m\u001b[38;5;124;43m'\u001b[39;49m\u001b[43m}\u001b[49m\u001b[43m,\u001b[49m\n\u001b[0;32m      6\u001b[0m \u001b[43m                     \u001b[49m\u001b[43mtee\u001b[49m\u001b[38;5;241;43m=\u001b[39;49m\u001b[38;5;28;43;01mTrue\u001b[39;49;00m\u001b[43m)\u001b[49m\n",
      "File \u001b[1;32mc:\\Users\\muham\\AppData\\Local\\Programs\\Python\\Python38\\lib\\site-packages\\opf\\core\\base.py:49\u001b[0m, in \u001b[0;36mOPFBaseModel.solve\u001b[1;34m(self, solver, solver_option, solve_method, tee, extract_dual)\u001b[0m\n\u001b[0;32m     46\u001b[0m \u001b[39mfor\u001b[39;00m k,v \u001b[39min\u001b[39;00m solver_option\u001b[39m.\u001b[39mitems():\n\u001b[0;32m     47\u001b[0m     optimizer\u001b[39m.\u001b[39moptions[k] \u001b[39m=\u001b[39m v\n\u001b[1;32m---> 49\u001b[0m \u001b[39mreturn\u001b[39;00m \u001b[39mself\u001b[39;49m\u001b[39m.\u001b[39;49m_solve(optimizer, solve_method, tee, extract_dual)\n",
      "File \u001b[1;32mc:\\Users\\muham\\AppData\\Local\\Programs\\Python\\Python38\\lib\\site-packages\\opf\\core\\base.py:85\u001b[0m, in \u001b[0;36mNormalOPFModel._solve\u001b[1;34m(self, optimizer, solve_method, tee, extract_dual)\u001b[0m\n\u001b[0;32m     84\u001b[0m \u001b[39mdef\u001b[39;00m \u001b[39m_solve\u001b[39m(\u001b[39mself\u001b[39m, optimizer:pyo\u001b[39m.\u001b[39mSolverFactory, solve_method:\u001b[39mbool\u001b[39m \u001b[39m=\u001b[39m \u001b[39mNone\u001b[39;00m, tee:\u001b[39mbool\u001b[39m \u001b[39m=\u001b[39m \u001b[39mFalse\u001b[39;00m, extract_dual:\u001b[39mbool\u001b[39m \u001b[39m=\u001b[39m \u001b[39mFalse\u001b[39;00m) \u001b[39m-\u001b[39m\u001b[39m>\u001b[39m Dict[\u001b[39mstr\u001b[39m,Any]:\n\u001b[1;32m---> 85\u001b[0m     opt_results \u001b[39m=\u001b[39m optimizer\u001b[39m.\u001b[39;49msolve(\u001b[39mself\u001b[39;49m\u001b[39m.\u001b[39;49minstance, tee\u001b[39m=\u001b[39;49mtee)\n\u001b[0;32m     87\u001b[0m     results \u001b[39m=\u001b[39m {\u001b[39m'\u001b[39m\u001b[39mtermination_status\u001b[39m\u001b[39m'\u001b[39m: opt_results\u001b[39m.\u001b[39msolver\u001b[39m.\u001b[39mtermination_condition, \n\u001b[0;32m     88\u001b[0m                \u001b[39m'\u001b[39m\u001b[39mtime\u001b[39m\u001b[39m'\u001b[39m: opt_results\u001b[39m.\u001b[39msolver\u001b[39m.\u001b[39mtime,\n\u001b[0;32m     89\u001b[0m                \u001b[39m'\u001b[39m\u001b[39mobj_cost\u001b[39m\u001b[39m'\u001b[39m: pyo\u001b[39m.\u001b[39mvalue(\u001b[39mself\u001b[39m\u001b[39m.\u001b[39minstance\u001b[39m.\u001b[39mobj_cost),\n\u001b[0;32m     90\u001b[0m                \u001b[39m'\u001b[39m\u001b[39msol\u001b[39m\u001b[39m'\u001b[39m: {}\n\u001b[0;32m     91\u001b[0m                }\n\u001b[0;32m     93\u001b[0m     \u001b[39mif\u001b[39;00m results[\u001b[39m'\u001b[39m\u001b[39mtermination_status\u001b[39m\u001b[39m'\u001b[39m] \u001b[39min\u001b[39;00m [\u001b[39m'\u001b[39m\u001b[39moptimal\u001b[39m\u001b[39m'\u001b[39m, \u001b[39m'\u001b[39m\u001b[39mlocallyOptimal\u001b[39m\u001b[39m'\u001b[39m, \u001b[39m'\u001b[39m\u001b[39mgloballyOptimal\u001b[39m\u001b[39m'\u001b[39m]:\n",
      "File \u001b[1;32mc:\\Users\\muham\\AppData\\Local\\Programs\\Python\\Python38\\lib\\site-packages\\pyomo\\solvers\\plugins\\solvers\\direct_solver.py:131\u001b[0m, in \u001b[0;36mDirectSolver.solve\u001b[1;34m(self, *args, **kwds)\u001b[0m\n\u001b[0;32m    126\u001b[0m \u001b[39mtry\u001b[39;00m:\n\u001b[0;32m    127\u001b[0m \n\u001b[0;32m    128\u001b[0m     \u001b[39m# we're good to go.\u001b[39;00m\n\u001b[0;32m    129\u001b[0m     initial_time \u001b[39m=\u001b[39m time\u001b[39m.\u001b[39mtime()\n\u001b[1;32m--> 131\u001b[0m     \u001b[39mself\u001b[39;49m\u001b[39m.\u001b[39;49m_presolve(\u001b[39m*\u001b[39;49margs, \u001b[39m*\u001b[39;49m\u001b[39m*\u001b[39;49mkwds)\n\u001b[0;32m    133\u001b[0m     presolve_completion_time \u001b[39m=\u001b[39m time\u001b[39m.\u001b[39mtime()\n\u001b[0;32m    134\u001b[0m     \u001b[39mif\u001b[39;00m \u001b[39mself\u001b[39m\u001b[39m.\u001b[39m_report_timing:\n",
      "File \u001b[1;32mc:\\Users\\muham\\AppData\\Local\\Programs\\Python\\Python38\\lib\\site-packages\\pyomo\\solvers\\plugins\\solvers\\direct_solver.py:68\u001b[0m, in \u001b[0;36mDirectSolver._presolve\u001b[1;34m(self, *args, **kwds)\u001b[0m\n\u001b[0;32m     62\u001b[0m     msg \u001b[39m=\u001b[39m (\n\u001b[0;32m     63\u001b[0m         \u001b[39m\"\u001b[39m\u001b[39mThe \u001b[39m\u001b[39m{0}\u001b[39;00m\u001b[39m plugin method \u001b[39m\u001b[39m'\u001b[39m\u001b[39m_presolve\u001b[39m\u001b[39m'\u001b[39m\u001b[39m must be supplied a single problem instance - \u001b[39m\u001b[39m{1}\u001b[39;00m\u001b[39m were \u001b[39m\u001b[39m\"\u001b[39m\n\u001b[0;32m     64\u001b[0m         \u001b[39m+\u001b[39m \u001b[39m\"\u001b[39m\u001b[39msupplied.\u001b[39m\u001b[39m\"\u001b[39m\n\u001b[0;32m     65\u001b[0m     )\u001b[39m.\u001b[39mformat(\u001b[39mtype\u001b[39m(\u001b[39mself\u001b[39m), \u001b[39mlen\u001b[39m(args))\n\u001b[0;32m     66\u001b[0m     \u001b[39mraise\u001b[39;00m \u001b[39mValueError\u001b[39;00m(msg)\n\u001b[1;32m---> 68\u001b[0m \u001b[39mself\u001b[39;49m\u001b[39m.\u001b[39;49m_set_instance(model, kwds)\n\u001b[0;32m     70\u001b[0m DirectOrPersistentSolver\u001b[39m.\u001b[39m_presolve(\u001b[39mself\u001b[39m, \u001b[39m*\u001b[39m\u001b[39m*\u001b[39mkwds)\n",
      "File \u001b[1;32mc:\\Users\\muham\\AppData\\Local\\Programs\\Python\\Python38\\lib\\site-packages\\pyomo\\solvers\\plugins\\solvers\\cplex_direct.py:384\u001b[0m, in \u001b[0;36mCPLEXDirect._set_instance\u001b[1;34m(self, model, kwds)\u001b[0m\n\u001b[0;32m    377\u001b[0m     msg \u001b[39m=\u001b[39m (\n\u001b[0;32m    378\u001b[0m         \u001b[39m\"\u001b[39m\u001b[39mUnable to create CPLEX model. \u001b[39m\u001b[39m\"\u001b[39m\n\u001b[0;32m    379\u001b[0m         \u001b[39m\"\u001b[39m\u001b[39mHave you installed the Python \u001b[39m\u001b[39m\"\u001b[39m\n\u001b[0;32m    380\u001b[0m         \u001b[39m\"\u001b[39m\u001b[39mbindings for CPLEX?\u001b[39m\u001b[39m\\n\u001b[39;00m\u001b[39m\\n\u001b[39;00m\u001b[39m\\t\u001b[39;00m\u001b[39m\"\u001b[39m \u001b[39m+\u001b[39m \u001b[39m\"\u001b[39m\u001b[39mError message: \u001b[39m\u001b[39m{0}\u001b[39;00m\u001b[39m\"\u001b[39m\u001b[39m.\u001b[39mformat(e)\n\u001b[0;32m    381\u001b[0m     )\n\u001b[0;32m    382\u001b[0m     \u001b[39mraise\u001b[39;00m \u001b[39mException\u001b[39;00m(msg)\n\u001b[1;32m--> 384\u001b[0m \u001b[39mself\u001b[39;49m\u001b[39m.\u001b[39;49m_add_block(model)\n\u001b[0;32m    386\u001b[0m \u001b[39mfor\u001b[39;00m var, n_ref \u001b[39min\u001b[39;00m \u001b[39mself\u001b[39m\u001b[39m.\u001b[39m_referenced_variables\u001b[39m.\u001b[39mitems():\n\u001b[0;32m    387\u001b[0m     \u001b[39mif\u001b[39;00m n_ref \u001b[39m!=\u001b[39m \u001b[39m0\u001b[39m:\n",
      "File \u001b[1;32mc:\\Users\\muham\\AppData\\Local\\Programs\\Python\\Python38\\lib\\site-packages\\pyomo\\solvers\\plugins\\solvers\\cplex_direct.py:418\u001b[0m, in \u001b[0;36mCPLEXDirect._add_block\u001b[1;34m(self, block)\u001b[0m\n\u001b[0;32m    415\u001b[0m         \u001b[39massert\u001b[39;00m \u001b[39mnot\u001b[39;00m con\u001b[39m.\u001b[39mequality\n\u001b[0;32m    416\u001b[0m         \u001b[39mcontinue\u001b[39;00m  \u001b[39m# non-binding, so skip\u001b[39;00m\n\u001b[1;32m--> 418\u001b[0m     \u001b[39mself\u001b[39;49m\u001b[39m.\u001b[39;49m_add_constraint(con, lin_con_data)\n\u001b[0;32m    420\u001b[0m \u001b[39mfor\u001b[39;00m con \u001b[39min\u001b[39;00m sub_block\u001b[39m.\u001b[39mcomponent_data_objects(\n\u001b[0;32m    421\u001b[0m     ctype\u001b[39m=\u001b[39mSOSConstraint, descend_into\u001b[39m=\u001b[39m\u001b[39mFalse\u001b[39;00m, active\u001b[39m=\u001b[39m\u001b[39mTrue\u001b[39;00m, sort\u001b[39m=\u001b[39m\u001b[39mTrue\u001b[39;00m\n\u001b[0;32m    422\u001b[0m ):\n\u001b[0;32m    423\u001b[0m     \u001b[39mself\u001b[39m\u001b[39m.\u001b[39m_add_sos_constraint(con)\n",
      "File \u001b[1;32mc:\\Users\\muham\\AppData\\Local\\Programs\\Python\\Python38\\lib\\site-packages\\pyomo\\solvers\\plugins\\solvers\\cplex_direct.py:451\u001b[0m, in \u001b[0;36mCPLEXDirect._add_constraint\u001b[1;34m(self, con, lin_con_data)\u001b[0m\n\u001b[0;32m    447\u001b[0m     cplex_expr, referenced_vars \u001b[39m=\u001b[39m \u001b[39mself\u001b[39m\u001b[39m.\u001b[39m_get_expr_from_pyomo_repn(\n\u001b[0;32m    448\u001b[0m         con\u001b[39m.\u001b[39mcanonical_form(), \u001b[39mself\u001b[39m\u001b[39m.\u001b[39m_max_constraint_degree\n\u001b[0;32m    449\u001b[0m     )\n\u001b[0;32m    450\u001b[0m \u001b[39melse\u001b[39;00m:\n\u001b[1;32m--> 451\u001b[0m     cplex_expr, referenced_vars \u001b[39m=\u001b[39m \u001b[39mself\u001b[39;49m\u001b[39m.\u001b[39;49m_get_expr_from_pyomo_expr(\n\u001b[0;32m    452\u001b[0m         con\u001b[39m.\u001b[39;49mbody, \u001b[39mself\u001b[39;49m\u001b[39m.\u001b[39;49m_max_constraint_degree\n\u001b[0;32m    453\u001b[0m     )\n\u001b[0;32m    455\u001b[0m \u001b[39mif\u001b[39;00m con\u001b[39m.\u001b[39mhas_lb() \u001b[39mand\u001b[39;00m \u001b[39mnot\u001b[39;00m is_fixed(con\u001b[39m.\u001b[39mlower):\n\u001b[0;32m    456\u001b[0m     \u001b[39mraise\u001b[39;00m \u001b[39mValueError\u001b[39;00m(\n\u001b[0;32m    457\u001b[0m         \u001b[39m\"\u001b[39m\u001b[39mLower bound of constraint \u001b[39m\u001b[39m{0}\u001b[39;00m\u001b[39m is not constant.\u001b[39m\u001b[39m\"\u001b[39m\u001b[39m.\u001b[39mformat(con)\n\u001b[0;32m    458\u001b[0m     )\n",
      "File \u001b[1;32mc:\\Users\\muham\\AppData\\Local\\Programs\\Python\\Python38\\lib\\site-packages\\pyomo\\solvers\\plugins\\solvers\\cplex_direct.py:332\u001b[0m, in \u001b[0;36mCPLEXDirect._get_expr_from_pyomo_expr\u001b[1;34m(self, expr, max_degree)\u001b[0m\n\u001b[0;32m    330\u001b[0m     msg \u001b[39m=\u001b[39m e\u001b[39m.\u001b[39margs[\u001b[39m0\u001b[39m]\n\u001b[0;32m    331\u001b[0m     msg \u001b[39m+\u001b[39m\u001b[39m=\u001b[39m \u001b[39m'\u001b[39m\u001b[39m\\n\u001b[39;00m\u001b[39mexpr: \u001b[39m\u001b[39m{0}\u001b[39;00m\u001b[39m'\u001b[39m\u001b[39m.\u001b[39mformat(expr)\n\u001b[1;32m--> 332\u001b[0m     \u001b[39mraise\u001b[39;00m DegreeError(msg)\n\u001b[0;32m    334\u001b[0m \u001b[39mreturn\u001b[39;00m cplex_expr, referenced_vars\n",
      "\u001b[1;31mDegreeError\u001b[0m: CPLEXDirect does not support expressions of degree None.\nexpr: pf_from[1] - (1/T_m[1]**2*(g[1] + g_from[1])*vm[1]**2 + (- g[1]*T_R[1] + b[1]*T_I[1])/T_m[1]**2*(vm[1]*vm[2])*cos(va[1] - va[2]) + (- b[1]*T_R[1] - g[1]*T_I[1])/T_m[1]**2*(vm[1]*vm[2])*sin(va[1] - va[2]))"
     ]
    }
   ],
   "source": [
    "model = opf.build_model('acopf')\n",
    "network = opf.parse_file(pglib_opf_case5_pjm)\n",
    "model.instantiate(network)\n",
    "result = model.solve(solver='cplex_direct',\n",
    "                     solver_option={'print_level' : 5, 'linear_solver': 'ma27'},\n",
    "                     tee=True)"
   ]
  },
  {
   "cell_type": "code",
   "execution_count": null,
   "metadata": {},
   "outputs": [],
   "source": []
  }
 ],
 "metadata": {
  "kernelspec": {
   "display_name": "Python 3.8.10 64-bit",
   "language": "python",
   "name": "python3"
  },
  "language_info": {
   "codemirror_mode": {
    "name": "ipython",
    "version": 3
   },
   "file_extension": ".py",
   "mimetype": "text/x-python",
   "name": "python",
   "nbconvert_exporter": "python",
   "pygments_lexer": "ipython3",
   "version": "3.8.10"
  },
  "orig_nbformat": 4,
  "vscode": {
   "interpreter": {
    "hash": "7d9fbcc9d36fec826ec7ea63260f41bcb424332a9e727079e8172fbdc4352c28"
   }
  }
 },
 "nbformat": 4,
 "nbformat_minor": 2
}
